{
 "cells": [
  {
   "cell_type": "markdown",
   "metadata": {},
   "source": [
    "# Model-based machine learning - Chapter 1 - A Murder Mystery"
   ]
  },
  {
   "cell_type": "markdown",
   "metadata": {},
   "source": [
    "This notebook is based on the [Model-based machine learning - Chapter 1 - A Murder Mystery](http://mbmlbook.com/MurderMystery.html), this [presentation](https://mltrain.cc/wp-content/uploads/2018/02/MLTrain@UAI_-Introduction-to-Pyro.pdf), and the [forum thread](https://forum.pyro.ai/t/importance-sampling-and-empirical-margin/627) using [Pyro](http://pyro.ai) and [PyTorch](https://pytorch.org).<br>"
   ]
  },
  {
   "cell_type": "markdown",
   "metadata": {},
   "source": [
    "## Probabilities"
   ]
  },
  {
   "cell_type": "markdown",
   "metadata": {},
   "source": [
    "**Murderer**<br>\n",
    "P(murderer=Grey) = 0.3<br>\n",
    "P(murderer=Auburn) = 0.7<br>\n",
    "\n",
    "**Weapons**<br>\n",
    "P(weapon=revolver|murderer=Grey) = 0.9<br>\n",
    "P(weapon=dagger|murderer=Grey) = 0.1<br>\n",
    "\n",
    "P(weapon=revolver|murderer=Auburn) = 0.2<br>\n",
    "P(weapon=dagger|murderer=Auburn) = 0.8<br>\n",
    "\n",
    "**Hair**<br>\n",
    "P(weapon=True|murderer=Grey) = 0.5<br>\n",
    "P(weapon=True|murderer=Auburn) = 0.05<br>"
   ]
  },
  {
   "cell_type": "markdown",
   "metadata": {},
   "source": [
    "## Imports"
   ]
  },
  {
   "cell_type": "code",
   "execution_count": 1,
   "metadata": {},
   "outputs": [],
   "source": [
    "import torch\n",
    "import pyro\n",
    "import pyro.infer"
   ]
  },
  {
   "cell_type": "code",
   "execution_count": 2,
   "metadata": {},
   "outputs": [
    {
     "data": {
      "text/plain": [
       "'0.3.0'"
      ]
     },
     "execution_count": 2,
     "metadata": {},
     "output_type": "execute_result"
    }
   ],
   "source": [
    "# prin pyro version\n",
    "pyro.__version__"
   ]
  },
  {
   "cell_type": "code",
   "execution_count": 3,
   "metadata": {},
   "outputs": [],
   "source": [
    "# check pyro version starts with '0.3.0'\n",
    "assert pyro.__version__.startswith('0.3.0')"
   ]
  },
  {
   "cell_type": "code",
   "execution_count": 4,
   "metadata": {},
   "outputs": [],
   "source": [
    "# enable validation while you are learning or debugging (http://pyro.ai/examples/tensor_shapes.html)\n",
    "pyro.enable_validation(True)"
   ]
  },
  {
   "cell_type": "code",
   "execution_count": 5,
   "metadata": {},
   "outputs": [],
   "source": [
    "# set random seed for reproducability\n",
    "pyro.set_rng_seed(0)"
   ]
  },
  {
   "cell_type": "markdown",
   "metadata": {},
   "source": [
    "## Basic model"
   ]
  },
  {
   "cell_type": "code",
   "execution_count": 6,
   "metadata": {},
   "outputs": [],
   "source": [
    "def murder_basic():\n",
    "    \n",
    "    ## Murderer\n",
    "    # Auburn = 1\n",
    "    # Grey = 0\n",
    "    \n",
    "    # probability P(murderer)\n",
    "    murderer = pyro.sample('murderer', pyro.distributions.Bernoulli(0.7))\n",
    "    \n",
    "    \n",
    "    ## weapons\n",
    "    # revolver = 1\n",
    "    # dagger = 0\n",
    "    \n",
    "    if murderer == 0.0: # murderer = Grey\n",
    "        p_weapon = 0.9\n",
    "    else: # murderer = Auburn\n",
    "        p_weapon = 0.2\n",
    "    \n",
    "    # conditional probability P(weapon|murderer)\n",
    "    weapon = pyro.sample('weapon', pyro.distributions.Bernoulli(p_weapon))\n",
    "    \n",
    "    return murderer, weapon"
   ]
  },
  {
   "cell_type": "code",
   "execution_count": 7,
   "metadata": {},
   "outputs": [
    {
     "data": {
      "text/plain": [
       "[(tensor(1.), tensor(0.)),\n",
       " (tensor(1.), tensor(1.)),\n",
       " (tensor(1.), tensor(0.)),\n",
       " (tensor(1.), tensor(0.)),\n",
       " (tensor(1.), tensor(0.)),\n",
       " (tensor(1.), tensor(0.)),\n",
       " (tensor(1.), tensor(1.)),\n",
       " (tensor(1.), tensor(0.)),\n",
       " (tensor(1.), tensor(0.)),\n",
       " (tensor(1.), tensor(0.))]"
      ]
     },
     "execution_count": 7,
     "metadata": {},
     "output_type": "execute_result"
    }
   ],
   "source": [
    "# model test output\n",
    "[murder_basic() for _ in range(10)]"
   ]
  },
  {
   "cell_type": "markdown",
   "metadata": {},
   "source": [
    "## Condition on bullet found (weapon=revolver)"
   ]
  },
  {
   "cell_type": "markdown",
   "metadata": {},
   "source": [
    "weapon = 1<br>\n",
    "hair = 0 (False)"
   ]
  },
  {
   "cell_type": "code",
   "execution_count": 8,
   "metadata": {},
   "outputs": [],
   "source": [
    "# Condition on weapon=revolver\n",
    "conditioned_basic = pyro.condition(murder_basic, data={'weapon': torch.tensor(1.0)})"
   ]
  },
  {
   "cell_type": "code",
   "execution_count": 9,
   "metadata": {},
   "outputs": [
    {
     "data": {
      "text/plain": [
       "{'weapon': tensor(1.)}"
      ]
     },
     "execution_count": 9,
     "metadata": {},
     "output_type": "execute_result"
    }
   ],
   "source": [
    "# check conditioning\n",
    "conditioned_basic.msngr.data"
   ]
  },
  {
   "cell_type": "code",
   "execution_count": 10,
   "metadata": {},
   "outputs": [],
   "source": [
    "# P(murderer|weapon=revolver)\n",
    "posterior_basic = pyro.infer.Importance(conditioned_basic, num_samples=1000)"
   ]
  },
  {
   "cell_type": "code",
   "execution_count": 11,
   "metadata": {},
   "outputs": [],
   "source": [
    "# P(murderer)=∑(over weapon) P(murderer,weapon) ?\n",
    "marginal_basic = pyro.infer.EmpiricalMarginal(posterior_basic.run(), sites='murderer')"
   ]
  },
  {
   "cell_type": "code",
   "execution_count": 12,
   "metadata": {},
   "outputs": [
    {
     "data": {
      "text/plain": [
       "0.34146350622177124"
      ]
     },
     "execution_count": 12,
     "metadata": {},
     "output_type": "execute_result"
    }
   ],
   "source": [
    "# P(murderer=Auburn|weapon=revolver)\n",
    "p_auburn_basic = marginal_basic.mean.item(); p_auburn_basic"
   ]
  },
  {
   "cell_type": "code",
   "execution_count": 13,
   "metadata": {},
   "outputs": [
    {
     "data": {
      "text/plain": [
       "0.6585364937782288"
      ]
     },
     "execution_count": 13,
     "metadata": {},
     "output_type": "execute_result"
    }
   ],
   "source": [
    "# P(murderer=Grey|weapon=revolver)\n",
    "p_grey_basic = 1-marginal_basic.mean.item(); p_grey_basic"
   ]
  },
  {
   "cell_type": "code",
   "execution_count": 14,
   "metadata": {},
   "outputs": [
    {
     "data": {
      "text/plain": [
       "0.4742005467414856"
      ]
     },
     "execution_count": 14,
     "metadata": {},
     "output_type": "execute_result"
    }
   ],
   "source": [
    "# standard deviation\n",
    "stddev_p_basic = marginal_basic.stddev.item(); stddev_p_basic"
   ]
  },
  {
   "cell_type": "markdown",
   "metadata": {},
   "source": [
    "## Extended model"
   ]
  },
  {
   "cell_type": "code",
   "execution_count": 15,
   "metadata": {},
   "outputs": [],
   "source": [
    "def murder_ext():\n",
    "    \n",
    "    ## Murderer\n",
    "    # Auburn = 1\n",
    "    # Grey = 0\n",
    "    \n",
    "    # probability P(murderer)\n",
    "    murderer = pyro.sample('murderer', pyro.distributions.Bernoulli(0.7))\n",
    "    \n",
    "    \n",
    "    ## weapons\n",
    "    # revolver = 1\n",
    "    # dagger = 0\n",
    "    \n",
    "    if murderer == 0.0: # murderer = Grey\n",
    "        p_weapon = 0.9\n",
    "    else: # murderer = Auburn\n",
    "        p_weapon = 0.2\n",
    "    \n",
    "    # conditional probability P(weapon|murderer)\n",
    "    weapon = pyro.sample('weapon', pyro.distributions.Bernoulli(p_weapon))\n",
    "    \n",
    "    \n",
    "    ## Hair\n",
    "    \n",
    "    if murderer == 0.0: # murderer = Grey\n",
    "        p_hair = 0.5\n",
    "    else: # murderer = Auburn\n",
    "        p_hair = 0.05\n",
    "    \n",
    "    # conditional probability P(hair=True|murderer)\n",
    "    hair = pyro.sample('hair', pyro.distributions.Bernoulli(p_hair))\n",
    "    \n",
    "    \n",
    "    return murderer, weapon, hair"
   ]
  },
  {
   "cell_type": "code",
   "execution_count": 16,
   "metadata": {},
   "outputs": [
    {
     "data": {
      "text/plain": [
       "[(tensor(0.), tensor(1.), tensor(1.)),\n",
       " (tensor(0.), tensor(1.), tensor(1.)),\n",
       " (tensor(1.), tensor(0.), tensor(0.)),\n",
       " (tensor(0.), tensor(1.), tensor(0.)),\n",
       " (tensor(1.), tensor(0.), tensor(0.)),\n",
       " (tensor(1.), tensor(1.), tensor(0.)),\n",
       " (tensor(1.), tensor(0.), tensor(0.)),\n",
       " (tensor(0.), tensor(1.), tensor(1.)),\n",
       " (tensor(0.), tensor(1.), tensor(0.)),\n",
       " (tensor(0.), tensor(1.), tensor(0.))]"
      ]
     },
     "execution_count": 16,
     "metadata": {},
     "output_type": "execute_result"
    }
   ],
   "source": [
    "# model test output\n",
    "[murder_ext() for _ in range(10)]"
   ]
  },
  {
   "cell_type": "markdown",
   "metadata": {},
   "source": [
    "## Condition on bullet and hair found (weapon=revolver, hair=True) "
   ]
  },
  {
   "cell_type": "markdown",
   "metadata": {},
   "source": [
    "weapon = 1<br>\n",
    "hair = 1 (True)"
   ]
  },
  {
   "cell_type": "code",
   "execution_count": 17,
   "metadata": {},
   "outputs": [],
   "source": [
    "# Condition on weapon=revolver and hair=True\n",
    "conditioned_ext = pyro.condition(murder_ext, data={'weapon': torch.tensor(1.0), 'hair': torch.tensor(1.0)})"
   ]
  },
  {
   "cell_type": "code",
   "execution_count": 18,
   "metadata": {},
   "outputs": [
    {
     "data": {
      "text/plain": [
       "{'weapon': tensor(1.), 'hair': tensor(1.)}"
      ]
     },
     "execution_count": 18,
     "metadata": {},
     "output_type": "execute_result"
    }
   ],
   "source": [
    "# check conditioning\n",
    "conditioned_ext.msngr.data"
   ]
  },
  {
   "cell_type": "code",
   "execution_count": 19,
   "metadata": {},
   "outputs": [],
   "source": [
    "# P(murderer|weapon=revolver,hair=True)\n",
    "posterior_ext = pyro.infer.Importance(conditioned_ext, num_samples=1000)"
   ]
  },
  {
   "cell_type": "code",
   "execution_count": 20,
   "metadata": {},
   "outputs": [],
   "source": [
    "# P(murderer)=∑(over weapon and hair) P(murderer,weapon,hair) ?\n",
    "marginal_ext = pyro.infer.EmpiricalMarginal(posterior_ext.run(), sites='murderer')"
   ]
  },
  {
   "cell_type": "code",
   "execution_count": 21,
   "metadata": {},
   "outputs": [
    {
     "data": {
      "text/plain": [
       "0.04798119142651558"
      ]
     },
     "execution_count": 21,
     "metadata": {},
     "output_type": "execute_result"
    }
   ],
   "source": [
    "# P(murderer=Auburn|weapon=revolver,hair=True)\n",
    "p_auburn_ext = marginal_ext.mean.item(); p_auburn_ext"
   ]
  },
  {
   "cell_type": "code",
   "execution_count": 22,
   "metadata": {},
   "outputs": [
    {
     "data": {
      "text/plain": [
       "0.9520188085734844"
      ]
     },
     "execution_count": 22,
     "metadata": {},
     "output_type": "execute_result"
    }
   ],
   "source": [
    "# P(murderer=Grey|weapon=revolver,hair=True)\n",
    "p_grey_ext = 1-marginal_ext.mean.item(); p_grey_ext"
   ]
  },
  {
   "cell_type": "code",
   "execution_count": 23,
   "metadata": {},
   "outputs": [
    {
     "data": {
      "text/plain": [
       "0.2137264609336853"
      ]
     },
     "execution_count": 23,
     "metadata": {},
     "output_type": "execute_result"
    }
   ],
   "source": [
    "# standard deviation\n",
    "stddev_p_ext = marginal_ext.stddev.item(); stddev_p_ext"
   ]
  },
  {
   "cell_type": "markdown",
   "metadata": {},
   "source": [
    "# Results"
   ]
  },
  {
   "cell_type": "code",
   "execution_count": 24,
   "metadata": {},
   "outputs": [],
   "source": [
    "import numpy as np\n",
    "import matplotlib.pyplot as plt"
   ]
  },
  {
   "cell_type": "code",
   "execution_count": 25,
   "metadata": {},
   "outputs": [],
   "source": [
    "p_auburn_means = (0.70, round(p_auburn_basic, 2), round(p_auburn_ext, 2))\n",
    "p_grey_means = (0.30, round(p_grey_basic, 2), round(p_grey_ext, 2))"
   ]
  },
  {
   "cell_type": "code",
   "execution_count": 26,
   "metadata": {},
   "outputs": [],
   "source": [
    "#stddev = (0.0, stddev_p_basic, stddev_p_basic) # for the prior there is no information on the stddev!"
   ]
  },
  {
   "cell_type": "code",
   "execution_count": 27,
   "metadata": {},
   "outputs": [
    {
     "data": {
      "image/png": "[encoded data removed]",
      "text/plain": [
       "<Figure size 504x360 with 1 Axes>"
      ]
     },
     "metadata": {
      "needs_background": "light"
     },
     "output_type": "display_data"
    }
   ],
   "source": [
    "# based on https://matplotlib.org/gallery/lines_bars_and_markers/barchart.html\n",
    "ind = np.arange(len(p_auburn_means))\n",
    "width = 0.35\n",
    "\n",
    "fig, ax = plt.subplots(figsize=(7, 5))\n",
    "rects1 = ax.bar(ind - width/2, p_auburn_means, width, color='darkred', label='Auburn')\n",
    "rects2 = ax.bar(ind + width/2, p_grey_means, width, color='gray', label='Grey')\n",
    "#rects1 = ax.bar(ind - width/2, p_auburn_means, width, color='darkred', yerr=stddev, label='Auburn')\n",
    "#rects2 = ax.bar(ind + width/2, p_grey_means, width, color='gray', yerr=stddev, label='Grey')\n",
    "\n",
    "ax.set_title('murder model')\n",
    "ax.set_ylabel('P(murderer)')\n",
    "ax.set_ylim((0, 1.05))\n",
    "ax.set_xticks(ind)\n",
    "ax.set_xticklabels(('Prior P(murderer)', 'P(murderer|weapon)', 'P(murderer|weapon,hair)'))\n",
    "ax.legend(loc=2)\n",
    "\n",
    "def autolabel(rects, xpos='center'):\n",
    "    \"\"\"\n",
    "    Attach a text label above each bar in *rects*, displaying its height.\n",
    "\n",
    "    *xpos* indicates which side to place the text w.r.t. the center of\n",
    "    the bar. It can be one of the following {'center', 'right', 'left'}.\n",
    "    \"\"\"\n",
    "\n",
    "    xpos = xpos.lower()  # normalize the case of the parameter\n",
    "    ha = {'center': 'center', 'right': 'left', 'left': 'right'}\n",
    "    offset = {'center': 0.5, 'right': 0.57, 'left': 0.43}  # x_txt = x + w*off\n",
    "\n",
    "    for rect in rects:\n",
    "        height = rect.get_height()\n",
    "        ax.text(rect.get_x() + rect.get_width()*offset[xpos], 1.01*height,\n",
    "                '{}'.format(height), ha=ha[xpos], va='bottom')\n",
    "\n",
    "\n",
    "autolabel(rects1, \"left\")\n",
    "autolabel(rects2, \"right\")\n",
    "\n",
    "plt.show()"
   ]
  },
  {
   "cell_type": "code",
   "execution_count": null,
   "metadata": {},
   "outputs": [],
   "source": []
  }
 ],
 "metadata": {
  "kernelspec": {
   "display_name": "Python 3",
   "language": "python",
   "name": "python3"
  },
  "language_info": {
   "codemirror_mode": {
    "name": "ipython",
    "version": 3
   },
   "file_extension": ".py",
   "mimetype": "text/x-python",
   "name": "python",
   "nbconvert_exporter": "python",
   "pygments_lexer": "ipython3",
   "version": "3.6.6"
  }
 },
 "nbformat": 4,
 "nbformat_minor": 2
}
